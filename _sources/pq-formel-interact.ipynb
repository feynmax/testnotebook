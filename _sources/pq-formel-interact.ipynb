{
 "cells": [
  {
   "cell_type": "markdown",
   "metadata": {},
   "source": [
    "# Automatischer Löser für die _pq_-Formel"
   ]
  },
  {
   "cell_type": "code",
   "execution_count": null,
   "metadata": {},
   "outputs": [
    {
     "data": {
      "text/latex": [
       "$\\displaystyle {\\color{blue}{q=1\\,,\\quad p=2\\,,\\quad \\Rightarrow\\;\\frac{p}2=1\\,,}}\\qquad \\textsf{Gleichung:}\\quad x^2+2\\,x+1 = 0$"
      ],
      "text/plain": [
       "<IPython.core.display.Math object>"
      ]
     },
     "metadata": {},
     "output_type": "display_data"
    },
    {
     "data": {
      "text/markdown": [
       "### Diskriminante:"
      ],
      "text/plain": [
       "<IPython.core.display.Markdown object>"
      ]
     },
     "metadata": {},
     "output_type": "display_data"
    },
    {
     "data": {
      "text/latex": [
       "$\\displaystyle D = \\left(\\dfrac{p}2\\right)^2 - q$"
      ],
      "text/plain": [
       "<IPython.core.display.Math object>"
      ]
     },
     "metadata": {},
     "output_type": "display_data"
    },
    {
     "data": {
      "text/latex": [
       "$\\displaystyle \\phantom{D} = 1^2 - 1$"
      ],
      "text/plain": [
       "<IPython.core.display.Math object>"
      ]
     },
     "metadata": {},
     "output_type": "display_data"
    },
    {
     "data": {
      "text/latex": [
       "$\\displaystyle \\phantom{D} = 1 -1\\;{\\color{red}{= 0}}$"
      ],
      "text/plain": [
       "<IPython.core.display.Math object>"
      ]
     },
     "metadata": {},
     "output_type": "display_data"
    },
    {
     "data": {
      "text/markdown": [
       "### D = 0,&nbsp;&nbsp;&nbsp;also gibt es 1 Lösung:"
      ],
      "text/plain": [
       "<IPython.core.display.Markdown object>"
      ]
     },
     "metadata": {},
     "output_type": "display_data"
    },
    {
     "data": {
      "text/latex": [
       "$\\displaystyle x = -\\dfrac{p}2 \\pm \\sqrt{D}$"
      ],
      "text/plain": [
       "<IPython.core.display.Math object>"
      ]
     },
     "metadata": {},
     "output_type": "display_data"
    },
    {
     "data": {
      "text/latex": [
       "$\\displaystyle \\hphantom{x} = -\\dfrac{2}2 \\pm  \\sqrt{0}  = -1$"
      ],
      "text/plain": [
       "<IPython.core.display.Math object>"
      ]
     },
     "metadata": {},
     "output_type": "display_data"
    },
    {
     "data": {
      "text/latex": [
       "$\\displaystyle {\\color{red}{x = -1}}\\quad (= x_1 = x_2)$"
      ],
      "text/plain": [
       "<IPython.core.display.Math object>"
      ]
     },
     "metadata": {},
     "output_type": "display_data"
    },
    {
     "data": {
      "text/markdown": [
       "### Der Satz von Vieta gilt, wenn man die einzige Lösung doppelt zählt:"
      ],
      "text/plain": [
       "<IPython.core.display.Markdown object>"
      ]
     },
     "metadata": {},
     "output_type": "display_data"
    },
    {
     "data": {
      "text/latex": [
       "$\\displaystyle \\bullet\\;\\textsf{ Die Summe der Lösungen ist}\\qquad x_1+x_2 = -2 = -p$"
      ],
      "text/plain": [
       "<IPython.core.display.Math object>"
      ]
     },
     "metadata": {},
     "output_type": "display_data"
    },
    {
     "data": {
      "text/latex": [
       "$\\displaystyle \\bullet\\;\\textsf{ Das Produkt der Lösungen ist}\\qquad x_1\\cdot x_2 = 1 = q$"
      ],
      "text/plain": [
       "<IPython.core.display.Math object>"
      ]
     },
     "metadata": {},
     "output_type": "display_data"
    },
    {
     "data": {
      "text/latex": [
       "$\\displaystyle \\textsf{Zerlegung der Gleichung in Linearfaktoren:}\\qquad x^2+2\\,x+1 = (x +1)^2 = 0$"
      ],
      "text/plain": [
       "<IPython.core.display.Math object>"
      ]
     },
     "metadata": {},
     "output_type": "display_data"
    },
    {
     "data": {
      "text/markdown": [
       "<div class=\"alert alert-block alert-success\"><b>Ende der Berechnung,</b>&nbsp; der Rest ist Zusatzinfo&nbsp; (verständlicher, wenn ihr <i>quadratische Funktionen</i> schon behandelt habt): </div>"
      ],
      "text/plain": [
       "<IPython.core.display.Markdown object>"
      ]
     },
     "metadata": {},
     "output_type": "display_data"
    },
    {
     "data": {
      "text/markdown": [
       "***"
      ],
      "text/plain": [
       "<IPython.core.display.Markdown object>"
      ]
     },
     "metadata": {},
     "output_type": "display_data"
    },
    {
     "data": {
      "text/markdown": [
       "### Nullstellen der quadratischen Funktion"
      ],
      "text/plain": [
       "<IPython.core.display.Markdown object>"
      ]
     },
     "metadata": {},
     "output_type": "display_data"
    },
    {
     "data": {
      "text/latex": [
       "Die Lösung ist die _Nullstelle_ der Funktion $\\; {\\color{blue}{f(x) = x^2+2\\,x+1}} \\;$ (am Scheitelpunkt)."
      ],
      "text/plain": [
       "<IPython.core.display.Latex object>"
      ]
     },
     "metadata": {},
     "output_type": "display_data"
    },
    {
     "data": {
      "image/png": "[encoded data removed]",
      "text/plain": [
       "<Figure size 432x360 with 1 Axes>"
      ]
     },
     "metadata": {
      "needs_background": "light"
     },
     "output_type": "display_data"
    }
   ],
   "source": [
    "from IPython.display import display, Math, Markdown, Latex, clear_output\n",
    "import numpy as np\n",
    "import matplotlib.pyplot as plt\n",
    "import ipywidgets as widgets\n",
    "\n",
    "from mDocUtils.numbers import *\n",
    "from mDocUtils.quadratic import *\n",
    "from mDocUtils.plotfunc import funcplot\n",
    "\n",
    "F = OutputFormatter('tfrac')\n",
    "F.numberInputInfo()\n",
    "\n",
    "# Create text input widgets\n",
    "p_widget = widgets.Text(description='p =')\n",
    "q_widget = widgets.Text(description='q =')\n",
    "\n",
    "# Create a button widgets\n",
    "clear_button = widgets.Button(description='Eingabe löschen')\n",
    "calculate_button = widgets.Button(description='Berechnen!')\n",
    "\n",
    "# Create an output widget\n",
    "# output = widgets.Output()\n",
    "\n",
    "# Display the widgets\n",
    "display(p_widget, q_widget)\n",
    "display(clear_button, calculate_button)\n",
    "# display(output)\n",
    "\n",
    "def clear_entries(button):\n",
    "    p_widget.value = ''\n",
    "    q_widget.value = ''\n",
    "    with output:\n",
    "        clear_output(wait=True)\n",
    "\n",
    "def calculate_all(button):\n",
    "    clear_output(wait=True)\n",
    "    \n",
    "    p = parse_num_input(p_widget.value)\n",
    "    q = parse_num_input(q_widget.value)\n",
    "\n",
    "    ########### Überprüfen der Eingabe und Bestätigung der Gleichung\n",
    "\n",
    "    F = OutputFormatter('tfrac')\n",
    "\n",
    "    if F.alert_num_problems({'p': p, 'q': q}):\n",
    "        return\n",
    "    Q = QuadraticTerm(1, p, q, outputForm=F, pqForm=True)\n",
    "    \n",
    "    display(Math(Q.coeffList(color='blue', finalsep='\\,,') + rf'\\qquad \\textsf{{Gleichung:}}\\quad {Q.termFormat()} = 0'))\n",
    "\n",
    "    ########### Berechnung und Ausgabe der Diskriminante\n",
    "\n",
    "    F.headerLine('Diskriminante:')\n",
    "    display(Math( Q.formelD() ))\n",
    "    display(Math( rf'\\phantom{{D}} = {F.numFormat(-Q.xvertex,klammer=2)}^2 - {F.numFormat(Q.c,klammer=1)}' ))\n",
    "    display(Math( r'\\phantom{D}' + f' = {F.numFormat(Q.D1)} ' +\n",
    "                F.termPM(Q.D2, midterm=True, before0='-') + Q.D_and_sign(color='red') ))\n",
    "    \n",
    "    ########### Anzahl und Berechnung der Lösungen\n",
    "\n",
    "    F.headerLine( Q.solutioninfo())\n",
    "\n",
    "    if Q.num_sol > 0:\n",
    "        xtext = r\"x_{1,\\,2}\" if Q.num_sol > 1 else 'x'\n",
    "        display(Math( f\"{xtext} = \" + Q.formelTemplate(bp2=r'-\\dfrac{p}2') ))\n",
    "\n",
    "        mathline = rf\"\\hphantom{{{xtext}}} = \" + Q.formelTemplate(\n",
    "            bp2   = rf\"-\\dfrac{{{F.numFormat(Q.b)}}}2\",\n",
    "            root  = F.sqrt_of( F.numFormat(Q.D) ) ) + ' = '\n",
    "    \n",
    "        ########### 1 Lösung\n",
    "\n",
    "        if Q.num_sol == 1:\n",
    "            mathline += F.termPM(Q.sol[0], midterm=True, before0='')\n",
    "            display(Math( mathline ))\n",
    "            display(Math( F.colortext(\"x = \" + F.numFormat(Q.sol[0]), color='red') + r\"\\quad (= x_1 = x_2)\" ))\n",
    "    \n",
    "        ########### 2 Lösungen\n",
    "\n",
    "        else:            \n",
    "            calclatex = Q.formelTemplate( bp2=F.termPM(Q.xvertex, before0=None, midterm=True), pmsign=Q.pmsign, root=Q.rootForm)\n",
    "            display(Math( mathline + calclatex ))\n",
    "            \n",
    "            calcsolutions  = rf\"x_1 = {calclatex.replace(Q.pmsign, '-')} = {F.colortext(F.numFormat(Q.sol[0]), color='red')}\"\n",
    "            calcsolutions += rf\"\\,,\\qquad x_2 = {calclatex.replace(Q.pmsign, '+')} = {F.colortext(F.numFormat(Q.sol[1]), color='red')}\"\n",
    "            display(Math( calcsolutions ))\n",
    "     \n",
    "        ########### Satz von Vieta\n",
    "\n",
    "        F.headerLine('Der Satz von Vieta gilt' + (':' if Q.num_sol==2 else ', wenn man die einzige Lösung doppelt zählt:') )\n",
    "        sum_sol  = Q.sol[0] + (Q.sol[1] if Q.num_sol==2 else Q.sol[0])\n",
    "        prod_sol = Q.sol[0] * (Q.sol[1] if Q.num_sol==2 else Q.sol[0])\n",
    "        display(Math( rf'\\bullet\\;\\textsf{{ Die Summe der Lösungen ist}}\\qquad x_1+x_2 = {F.numFormat(sum_sol)} = -p' ))\n",
    "        display(Math( rf'\\bullet\\;\\textsf{{ Das Produkt der Lösungen ist}}\\qquad x_1\\cdot x_2 = {F.numFormat(prod_sol)} = q' ))\n",
    "        factors = f\"(x {F.termPM(-Q.sol[0], midterm=True)})\"\n",
    "        factors += \"^2\" if Q.num_sol==1 else f\"(x {F.termPM(-Q.sol[1], midterm=True)})\"\n",
    "        extra = ' (nur dezimal)' if isinstance(Q.sol[0], float) else ''\n",
    "        display(Math( rf'\\textsf{{Zerlegung der Gleichung in Linearfaktoren{extra}:}}\\qquad {Q.termFormat()} = {factors} = 0' ))\n",
    "    else:\n",
    "        display(Markdown( 'Damit kann man auch den Satz von Vieta nicht anwenden.' ))\n",
    "\n",
    "    ########### Intro Nullstellen und quadratische Funktion\n",
    "\n",
    "    F.infoBox(boldtext='Ende der Berechnung,', text='der Rest ist Zusatzinfo'\n",
    "                     + '&nbsp; (verständlicher, wenn ihr <i>quadratische Funktionen</i> schon behandelt habt):', color='green')\n",
    "    F.headerLine('Nullstellen der quadratischen Funktion', ruleBefore=True )\n",
    "\n",
    "    funcstr = rf\"$\\; {F.colortext('f(x) = ' + Q.termFormat(), color='blue')} \\;$\"\n",
    "    zerotext = [ f'Keine reelle Lösung - damit hat die Funktion {funcstr} _keine Nullstelle_.',\n",
    "                 f'Die Lösung ist die _Nullstelle_ der Funktion {funcstr} (am Scheitelpunkt).',\n",
    "                 f'Die beiden Lösungen sind die 2 _Nullstellen_ der Funktion {funcstr}.'    ]\n",
    "    display(Latex( zerotext[Q.num_sol] ))\n",
    "    \n",
    "    ########### x Bereich für Plot und dann Plot\n",
    "\n",
    "    xmin, xmax = Q.get_plot_xrange()\n",
    "    x_vals = np.linspace(xmin, xmax, 65)\n",
    "    y_vals = [x**2+p*x+q for x in x_vals]\n",
    "\n",
    "    fig, ax = plt.subplots(figsize=(6, 5))\n",
    "    plotter = funcplot(fig, ax)\n",
    "    plotter.addplot(x_vals, y_vals, color='blue')\n",
    "    \n",
    "    ########### y Bereich je nach Anzahl der Lösungen\n",
    "\n",
    "    ymin, ymax = plotter.ax.get_ylim()\n",
    "    ymin, ymax = Q.expand_plot_yrange(ymin, ymax)\n",
    "    plotter.ax.set_ylim(ymin, ymax)\n",
    "\n",
    "    plotter.addaxesarrows()\n",
    "    \n",
    "    ########### Nullstellen einzeichnen\n",
    "\n",
    "    labelpositions = ['above right', 'above left'] if Q.a>0 else ['above left', 'above right']\n",
    "    for idx, zero in enumerate(Q.sol):\n",
    "        plotter.addpoint(zero, 0)\n",
    "        plotter.addlabel(f'$N_{idx+1}$' if Q.num_sol>1 else '$N$', (zero,0), pos=labelpositions[idx])\n",
    "\n",
    "    plotter.show(showlabels=False)\n",
    "\n",
    "clear_button.on_click(clear_entries)\n",
    "calculate_button.on_click(calculate_all)\n",
    "# calculate_all()\n"
   ]
  }
 ],
 "metadata": {
  "kernelspec": {
   "display_name": "Python 3 (ipykernel)",
   "language": "python",
   "name": "python3"
  },
  "language_info": {
   "codemirror_mode": {
    "name": "ipython",
    "version": 3
   },
   "file_extension": ".py",
   "mimetype": "text/x-python",
   "name": "python",
   "nbconvert_exporter": "python",
   "pygments_lexer": "ipython3",
   "version": "3.10.12"
  }
 },
 "nbformat": 4,
 "nbformat_minor": 2
}
