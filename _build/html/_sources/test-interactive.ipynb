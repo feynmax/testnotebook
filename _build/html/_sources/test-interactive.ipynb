{
 "cells": [
  {
   "cell_type": "markdown",
   "metadata": {},
   "source": [
    "# Hier ist interaktiver Content\n",
    "## und hier ein h2\n",
    "\n",
    "The following table gives an overview of different argument types, and how they map to interactive controls:\n",
    "\n",
    "| Keyword argument                                              | Widget  |\n",
    "| ----------------------------------------------------------------- | ----------- |\n",
    "| `True` or `False`                                                 | Checkbox    |\n",
    "| `'Hi there'`                                                      | Text        |\n",
    "| `value` or `(min,max)` or `(min,max,step)` if integers are passed | IntSlider   |\n",
    "| `value` or `(min,max)` or `(min,max,step)` if floats are passed   | FloatSlider |\n",
    "| `'orange','apple']` or `[('one', 1), ('two', 2)]`                 | Dropdown    |\n",
    "\n",
    "https://ipywidgets.readthedocs.io/en/stable/examples/Using%20Interact.html"
   ]
  },
  {
   "cell_type": "code",
   "execution_count": 41,
   "metadata": {
    "tags": [
     "remove-input"
    ]
   },
   "outputs": [],
   "source": [
    "import ipywidgets\n",
    "import numpy as np\n",
    "import matplotlib.pyplot as plt\n",
    "\n",
    "X = np.random.uniform(0,5,size=100)\n",
    "noise = np.random.normal(size=100)\n",
    "\n",
    "def plot_fct(w=1):\n",
    "    y = 2*X + w * noise\n",
    "    plt.scatter(X, y)\n"
   ]
  },
  {
   "cell_type": "code",
   "execution_count": 5,
   "metadata": {
    "tags": [
     "remove-input"
    ]
   },
   "outputs": [
    {
     "data": {
      "application/vnd.jupyter.widget-view+json": {
       "model_id": "76870ce521e349fdb5f8e5d637187854",
       "version_major": 2,
       "version_minor": 0
      },
      "text/plain": [
       "interactive(children=(FloatSlider(value=1.0, description='w', max=5.0), Output()), _dom_classes=('widget-inter…"
      ]
     },
     "metadata": {},
     "output_type": "display_data"
    },
    {
     "data": {
      "text/plain": [
       "<function __main__.plot_fct(w=1)>"
      ]
     },
     "execution_count": 5,
     "metadata": {},
     "output_type": "execute_result"
    }
   ],
   "source": [
    "t=ipywidgets.interact(plot_fct, w=(0,5,0.1))"
   ]
  },
  {
   "cell_type": "code",
   "execution_count": 12,
   "metadata": {},
   "outputs": [
    {
     "data": {
      "application/vnd.jupyter.widget-view+json": {
       "model_id": "101d3ac811134eab8d51540d400f39d8",
       "version_major": 2,
       "version_minor": 0
      },
      "text/plain": [
       "interactive(children=(Dropdown(description='samples', options=(200, 500, 1000), value=200), FloatSlider(value=…"
      ]
     },
     "metadata": {},
     "output_type": "display_data"
    },
    {
     "data": {
      "text/plain": [
       "<function __main__.plot_moons(samples=200, noise=0)>"
      ]
     },
     "execution_count": 12,
     "metadata": {},
     "output_type": "execute_result"
    }
   ],
   "source": [
    "from sklearn.datasets import make_moons\n",
    "\n",
    "def plot_moons(samples=200, noise=0):\n",
    "    moons = make_moons(n_samples=samples, noise=noise, random_state=50)\n",
    "    X, y = moons[0], moons[1]\n",
    "\n",
    "    plt.scatter(X[:,0], X[:,1], c=y)\n",
    "\n",
    "ipywidgets.interact(plot_moons, samples=[200, 500, 1000], noise=(0,2,0.025))"
   ]
  },
  {
   "cell_type": "code",
   "execution_count": 42,
   "metadata": {},
   "outputs": [
    {
     "data": {
      "application/vnd.jupyter.widget-view+json": {
       "model_id": "993024d31f084db68b03afaf5f616762",
       "version_major": 2,
       "version_minor": 0
      },
      "text/plain": [
       "interactive(children=(IntSlider(value=0, description='start', max=10), IntSlider(value=30, description='end', …"
      ]
     },
     "metadata": {},
     "output_type": "display_data"
    },
    {
     "data": {
      "text/plain": [
       "<function __main__.plot_sin(start=0, end=30, factor=1, grid=False, plot_cos=False)>"
      ]
     },
     "execution_count": 42,
     "metadata": {},
     "output_type": "execute_result"
    }
   ],
   "source": [
    "def plot_sin(start=0, end=30, factor=1, grid=False, plot_cos=False):\n",
    "    X = np.linspace(start, end, (end-start)*10)\n",
    "    y = np.sin(X) * factor\n",
    "    plt.grid(grid)\n",
    "    plt.plot(X, y)\n",
    "    if plot_cos:\n",
    "        y=np.cos(X)\n",
    "        plt.plot(X, y)\n",
    "\n",
    "ipywidgets.interact(plot_sin, start=(0,10,1), end=(20,50,1), factor=1, grid=False, plot_cos=[('wahr', True), ('falsch', False)])\n"
   ]
  },
  {
   "cell_type": "code",
   "execution_count": 24,
   "metadata": {},
   "outputs": [
    {
     "data": {
      "application/vnd.jupyter.widget-view+json": {
       "model_id": "e113eda403954d0eae29baff8e240e7f",
       "version_major": 2,
       "version_minor": 0
      },
      "text/plain": [
       "interactive(children=(IntSlider(value=0, description='x_in', max=5, min=-5), Output()), _dom_classes=('widget-…"
      ]
     },
     "metadata": {},
     "output_type": "display_data"
    },
    {
     "data": {
      "text/plain": [
       "<function __main__.plot_sigmoid(x_in=0)>"
      ]
     },
     "execution_count": 24,
     "metadata": {},
     "output_type": "execute_result"
    }
   ],
   "source": [
    "import math\n",
    "def plot_sigmoid(x_in=0):\n",
    "    X = np.linspace(-5, 5, 1000)\n",
    "    y=1 / (1+np.exp(-X))\n",
    "    y_in = 1/ (1+math.exp(-x_in))\n",
    "\n",
    "    plt.plot(X,y)\n",
    "    plt.scatter(x_in, y_in, c='r')\n",
    "    plt.plot([x_in, x_in], [0, y_in], 'r--')\n",
    "    plt.plot([-5, x_in], [y_in, y_in], 'r--')\n",
    "\n",
    "ipywidgets.interact(plot_sigmoid, x_in = (-5, 5, 1))"
   ]
  },
  {
   "cell_type": "code",
   "execution_count": 34,
   "metadata": {},
   "outputs": [
    {
     "data": {
      "application/vnd.jupyter.widget-view+json": {
       "model_id": "4c8315d4c1d1441fb9b257a7afa96d5c",
       "version_major": 2,
       "version_minor": 0
      },
      "text/plain": [
       "interactive(children=(FloatSlider(value=0.0, description='mu', max=10.0, min=-10.0, step=0.5), FloatSlider(val…"
      ]
     },
     "metadata": {},
     "output_type": "display_data"
    },
    {
     "data": {
      "text/plain": [
       "<function __main__.plot_hist(mu=0, sigma=1, n=100, bins=10, color='blue', title='Alex')>"
      ]
     },
     "execution_count": 34,
     "metadata": {},
     "output_type": "execute_result"
    }
   ],
   "source": [
    "def plot_hist(mu=0, sigma=1, n=100, bins=10, color='blue', title='Alex'):\n",
    "    plt.xlim(-20,20)\n",
    "    X= np.random.normal(mu, sigma, n)\n",
    "    plt.hist(X, bins=bins, color=color)\n",
    "    plt.text(0,10,title)\n",
    "\n",
    "ipywidgets.interact(plot_hist, mu=(-10,10,0.5), sigma=(0,10,0.1), n=(10,1000,1), bins=(1,100,1), title='bla', color=['red', 'green', 'blue'])"
   ]
  },
  {
   "cell_type": "code",
   "execution_count": 39,
   "metadata": {},
   "outputs": [
    {
     "data": {
      "application/vnd.jupyter.widget-view+json": {
       "model_id": "6a03a41730b1422dba6eecda93466ef7",
       "version_major": 2,
       "version_minor": 0
      },
      "text/plain": [
       "Text(value='2', description='p =')"
      ]
     },
     "metadata": {},
     "output_type": "display_data"
    },
    {
     "data": {
      "application/vnd.jupyter.widget-view+json": {
       "model_id": "869a04486675479a8fd80505ac30e501",
       "version_major": 2,
       "version_minor": 0
      },
      "text/plain": [
       "Text(value='3', description='q =')"
      ]
     },
     "metadata": {},
     "output_type": "display_data"
    },
    {
     "data": {
      "application/vnd.jupyter.widget-view+json": {
       "model_id": "bf46494a97414cd7812ce3cbfcce47b6",
       "version_major": 2,
       "version_minor": 0
      },
      "text/plain": [
       "Button(description='Berechnen!', style=ButtonStyle())"
      ]
     },
     "metadata": {},
     "output_type": "display_data"
    },
    {
     "data": {
      "image/png": "[encoded data removed]",
      "text/plain": [
       "<Figure size 432x288 with 1 Axes>"
      ]
     },
     "metadata": {
      "needs_background": "light"
     },
     "output_type": "display_data"
    }
   ],
   "source": [
    "calculate_button = ipywidgets.Button(description='Berechnen!')\n",
    "p_widget = ipywidgets.Text(description='p =')\n",
    "q_widget = ipywidgets.Text(description='q =')\n",
    "p_widget.value = '2'\n",
    "q_widget.value = '3'\n",
    "display(p_widget, q_widget)\n",
    "display(calculate_button)\n",
    "\n",
    "def myplot(button):\n",
    "    p = int(p_widget.value)\n",
    "    q = int(q_widget.value)\n",
    "    x=np.linspace(-10,10,101)\n",
    "    y=x**2 + p*x + q\n",
    "\n",
    "    plt.plot(x,y)\n",
    "\n",
    "calculate_button.on_click(myplot)\n"
   ]
  }
 ],
 "metadata": {
  "kernelspec": {
   "display_name": "Python 3",
   "language": "python",
   "name": "python3"
  },
  "language_info": {
   "codemirror_mode": {
    "name": "ipython",
    "version": 3
   },
   "file_extension": ".py",
   "mimetype": "text/x-python",
   "name": "python",
   "nbconvert_exporter": "python",
   "pygments_lexer": "ipython3",
   "version": "3.10.12"
  },
  "orig_nbformat": 4
 },
 "nbformat": 4,
 "nbformat_minor": 2
}
